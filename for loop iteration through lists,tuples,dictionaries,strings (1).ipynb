{
 "cells": [
  {
   "cell_type": "markdown",
   "id": "c1d99ac0",
   "metadata": {},
   "source": [
    "FOR LOOP\n",
    "a for loop is used for iterating over a sequence(that is either a list, a tuple, a dictionary ,a set , or a string).\n",
    "this is less like the for keyword in other programming languages ,and works more like an iterator method as found in other object oriented programming languages.\n"
   ]
  },
  {
   "cell_type": "markdown",
   "id": "bd7c2196",
   "metadata": {},
   "source": [
    "Example-1\n",
    "iterating through lists"
   ]
  },
  {
   "cell_type": "code",
   "execution_count": 11,
   "id": "23f06544",
   "metadata": {},
   "outputs": [
    {
     "name": "stdout",
     "output_type": "stream",
     "text": [
      "1\n",
      "2\n",
      "3\n",
      "4\n",
      "5\n",
      "6\n",
      "7\n",
      "8\n",
      "9\n"
     ]
    }
   ],
   "source": [
    "list1 = [1,2,3,4,5,6,7,8,9]\n",
    "for num in list1:\n",
    "    print(num)"
   ]
  },
  {
   "cell_type": "markdown",
   "id": "1099a433",
   "metadata": {},
   "source": [
    "lets print even number from the list"
   ]
  },
  {
   "cell_type": "code",
   "execution_count": 14,
   "id": "ef5bbc2b",
   "metadata": {},
   "outputs": [
    {
     "name": "stdout",
     "output_type": "stream",
     "text": [
      "2\n",
      "4\n",
      "6\n",
      "8\n"
     ]
    }
   ],
   "source": [
    "for num in list1:\n",
    "  if num % 2 == 0:\n",
    "        print(num)\n",
    "    "
   ]
  },
  {
   "cell_type": "markdown",
   "id": "1fa0bcf3",
   "metadata": {},
   "source": [
    "now put an else statement here"
   ]
  },
  {
   "cell_type": "code",
   "execution_count": 15,
   "id": "94737a33",
   "metadata": {},
   "outputs": [
    {
     "name": "stdout",
     "output_type": "stream",
     "text": [
      "odd number\n",
      "2\n",
      "odd number\n",
      "4\n",
      "odd number\n",
      "6\n",
      "odd number\n",
      "8\n",
      "odd number\n"
     ]
    }
   ],
   "source": [
    "for num in list1:\n",
    "    if num % 2 == 0:\n",
    "        print(num)\n",
    "    else:\n",
    "        print('odd number')"
   ]
  },
  {
   "cell_type": "markdown",
   "id": "ff1dcfb4",
   "metadata": {},
   "source": [
    "example 3\n",
    "lets create a for loop for the sum of list"
   ]
  },
  {
   "cell_type": "code",
   "execution_count": 30,
   "id": "660439bd",
   "metadata": {},
   "outputs": [
    {
     "name": "stdout",
     "output_type": "stream",
     "text": [
      "45\n"
     ]
    }
   ],
   "source": [
    "list_sum = 0\n",
    "\n",
    "for num in list1:\n",
    "    list_sum = list_sum + num\n",
    "       \n",
    "print(list_sum)"
   ]
  },
  {
   "cell_type": "markdown",
   "id": "412ae3f7",
   "metadata": {},
   "source": [
    "list sum using the symbol +="
   ]
  },
  {
   "cell_type": "code",
   "execution_count": 31,
   "id": "bbc5119d",
   "metadata": {},
   "outputs": [
    {
     "name": "stdout",
     "output_type": "stream",
     "text": [
      "45\n"
     ]
    }
   ],
   "source": [
    "list_sum = 0\n",
    "\n",
    "for num  in list1:\n",
    "    list_sum += num\n",
    "    \n",
    "print(list_sum)"
   ]
  },
  {
   "cell_type": "markdown",
   "id": "159875ac",
   "metadata": {},
   "source": [
    "example :- 4\n",
    "\n"
   ]
  },
  {
   "cell_type": "code",
   "execution_count": 38,
   "id": "41607d98",
   "metadata": {},
   "outputs": [
    {
     "name": "stdout",
     "output_type": "stream",
     "text": [
      "k\n",
      "a\n",
      "k\n",
      "i\n",
      " \n",
      "a\n",
      "s\n",
      "h\n",
      "o\n",
      "k\n",
      " \n",
      "t\n",
      "e\n",
      "j\n",
      "a\n",
      ".\n"
     ]
    }
   ],
   "source": [
    "for letter in 'kaki ashok teja.':\n",
    "    print(letter)\n",
    "    "
   ]
  },
  {
   "cell_type": "markdown",
   "id": "93a4341e",
   "metadata": {},
   "source": [
    "example:- 5\n",
    "for loop iterating through the tuples."
   ]
  },
  {
   "cell_type": "code",
   "execution_count": 45,
   "id": "8d5dd2f4",
   "metadata": {},
   "outputs": [
    {
     "name": "stdout",
     "output_type": "stream",
     "text": [
      "12\n",
      "23\n",
      "34\n",
      "67\n",
      "35\n"
     ]
    }
   ],
   "source": [
    "tuple = (12, 23, 34, 67 ,35)\n",
    "\n",
    "for t in tuple:\n",
    "    print(t)"
   ]
  },
  {
   "cell_type": "markdown",
   "id": "b37f4679",
   "metadata": {},
   "source": [
    "Example :-6\n",
    "tuples packing and unpacking with for loop.\n"
   ]
  },
  {
   "cell_type": "code",
   "execution_count": 60,
   "id": "f6b52184",
   "metadata": {
    "scrolled": true
   },
   "outputs": [
    {
     "name": "stdout",
     "output_type": "stream",
     "text": [
      "(2, 4)\n",
      "(6, 8)\n",
      "(10, 12)\n"
     ]
    }
   ],
   "source": [
    "list2 = [(2,4),(6,8),(10,12)]\n",
    "for tup in list2:\n",
    "    print(tup)\n"
   ]
  },
  {
   "cell_type": "markdown",
   "id": "ce5d6f34",
   "metadata": {},
   "source": [
    "now with unpacking the tuples"
   ]
  },
  {
   "cell_type": "code",
   "execution_count": 62,
   "id": "6e8b0d84",
   "metadata": {
    "scrolled": true
   },
   "outputs": [
    {
     "name": "stdout",
     "output_type": "stream",
     "text": [
      "2\n",
      "6\n",
      "10\n"
     ]
    }
   ],
   "source": [
    "for (t1,t2) in list2:\n",
    " print(t1)"
   ]
  },
  {
   "cell_type": "markdown",
   "id": "1381fe10",
   "metadata": {},
   "source": [
    "Example :-7\n",
    "Let's start exploring iterating through Dictionaries ."
   ]
  },
  {
   "cell_type": "code",
   "execution_count": 63,
   "id": "cf45fd0a",
   "metadata": {},
   "outputs": [
    {
     "name": "stdout",
     "output_type": "stream",
     "text": [
      "k1\n",
      "k2\n",
      "k3\n"
     ]
    }
   ],
   "source": [
    "d = {'k1':1,'k2':2,'k3':3}\n",
    "for item in d:\n",
    "    print(item)\n"
   ]
  },
  {
   "cell_type": "code",
   "execution_count": 65,
   "id": "b6e6663a",
   "metadata": {},
   "outputs": [
    {
     "data": {
      "text/plain": [
       "dict_items([('k1', 1), ('k2', 2), ('k3', 3)])"
      ]
     },
     "execution_count": 65,
     "metadata": {},
     "output_type": "execute_result"
    }
   ],
   "source": [
    "d.items()"
   ]
  },
  {
   "cell_type": "code",
   "execution_count": 69,
   "id": "621d1739",
   "metadata": {},
   "outputs": [
    {
     "name": "stdout",
     "output_type": "stream",
     "text": [
      "k1\n",
      "1\n",
      "k2\n",
      "2\n",
      "k3\n",
      "3\n"
     ]
    }
   ],
   "source": [
    "# Dictionary unpacking\n",
    "for k,v in d.items():\n",
    "    print(k)\n",
    "    print(v) \n"
   ]
  },
  {
   "cell_type": "code",
   "execution_count": 66,
   "id": "cc479ecc",
   "metadata": {},
   "outputs": [
    {
     "data": {
      "text/plain": [
       "dict_keys(['k1', 'k2', 'k3'])"
      ]
     },
     "execution_count": 66,
     "metadata": {},
     "output_type": "execute_result"
    }
   ],
   "source": [
    "d.keys()"
   ]
  },
  {
   "cell_type": "code",
   "execution_count": 67,
   "id": "d899038f",
   "metadata": {},
   "outputs": [
    {
     "data": {
      "text/plain": [
       "dict_values([1, 2, 3])"
      ]
     },
     "execution_count": 67,
     "metadata": {},
     "output_type": "execute_result"
    }
   ],
   "source": [
    "d.values()"
   ]
  },
  {
   "cell_type": "code",
   "execution_count": 70,
   "id": "90740df9",
   "metadata": {},
   "outputs": [
    {
     "data": {
      "text/plain": [
       "[1, 2, 3]"
      ]
     },
     "execution_count": 70,
     "metadata": {},
     "output_type": "execute_result"
    }
   ],
   "source": [
    "sorted(d.values())"
   ]
  },
  {
   "cell_type": "code",
   "execution_count": null,
   "id": "bf215cba",
   "metadata": {},
   "outputs": [],
   "source": []
  }
 ],
 "metadata": {
  "kernelspec": {
   "display_name": "Python 3 (ipykernel)",
   "language": "python",
   "name": "python3"
  },
  "language_info": {
   "codemirror_mode": {
    "name": "ipython",
    "version": 3
   },
   "file_extension": ".py",
   "mimetype": "text/x-python",
   "name": "python",
   "nbconvert_exporter": "python",
   "pygments_lexer": "ipython3",
   "version": "3.9.7"
  }
 },
 "nbformat": 4,
 "nbformat_minor": 5
}
